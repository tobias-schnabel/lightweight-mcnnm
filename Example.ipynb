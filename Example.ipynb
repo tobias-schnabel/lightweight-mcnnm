{
 "cells": [
  {
   "cell_type": "code",
   "id": "initial_id",
   "metadata": {
    "collapsed": true,
    "ExecuteTime": {
     "end_time": "2024-08-04T19:01:19.870619Z",
     "start_time": "2024-08-04T19:01:19.868147Z"
    }
   },
   "source": "!pip install lightweight-mcnnm",
   "outputs": [],
   "execution_count": 1
  },
  {
   "metadata": {
    "ExecuteTime": {
     "end_time": "2024-08-04T19:01:20.424040Z",
     "start_time": "2024-08-04T19:01:19.888887Z"
    }
   },
   "cell_type": "code",
   "source": [
    "import jax\n",
    "import jax.numpy as jnp\n",
    "from mcnnm import estimate, complete_matrix, generate_data"
   ],
   "id": "edc868e553979442",
   "outputs": [],
   "execution_count": 2
  },
  {
   "metadata": {},
   "cell_type": "markdown",
   "source": [
    "## Example 1: Staggered Adoption with Cross-Validation (Default)\n",
    "In this example, we generate a dataset with covariates and staggered adoption treatment assignment and use the default cross-validation method for selecting the regularization parameters. Cross-validation is currently not parallelized and may take longer to run on large datasets or smaller processors."
   ],
   "id": "6e3bb5397c3bf295"
  },
  {
   "metadata": {
    "ExecuteTime": {
     "end_time": "2024-08-04T19:01:21.587374Z",
     "start_time": "2024-08-04T19:01:20.424984Z"
    }
   },
   "cell_type": "code",
   "source": [
    "data, true_params = generate_data(nobs=50, nperiods=10, seed=42, assignment_mechanism='staggered', \n",
    "                                  X_cov=True, Z_cov=True, V_cov=True)\n",
    "\n",
    "Y = jnp.array(data.pivot(index='unit', columns='period', values='y').values)\n",
    "W = jnp.array(data.pivot(index='unit', columns='period', values='treat').values)\n",
    "X = jnp.array(true_params['X'])\n",
    "Z = jnp.array(true_params['Z'])\n",
    "V = jnp.array(true_params['V'])\n",
    "\n",
    "results = estimate(Y, W, X=X, Z=Z, V=V)\n",
    "\n",
    "print(f\"\\nTrue effect: {true_params['treatment_effect']}, Estimated effect: {results.tau:.4f}\")\n",
    "print(f\"Chosen lambda_L: {results.lambda_L:.4f}, lambda_H: {results.lambda_H:.4f}\")"
   ],
   "id": "f9d5f734290a1949",
   "outputs": [
    {
     "name": "stdout",
     "output_type": "stream",
     "text": [
      "\n",
      "True effect: 1.0, Estimated effect: 1.0152\n",
      "Chosen lambda_L: 0.0010, lambda_H: 0.0010\n"
     ]
    }
   ],
   "execution_count": 3
  },
  {
   "metadata": {},
   "cell_type": "markdown",
   "source": [
    "The `generate_data` function is used to create a synthetic dataset with staggered adoption treatment assignment. The assignment_mechanism parameter is set to `staggered`, which means that each unit adopts the treatment at a random time point with a specified probability.\n",
    "By default, the estimate function uses cross-validation to select the optimal regularization parameters lambda_L and lambda_H. Cross-validation splits the data into K folds (default is 5) and evaluates the model performance on each fold to select the best parameters."
   ],
   "id": "80d9bed6f21c790e"
  },
  {
   "metadata": {},
   "cell_type": "markdown",
   "source": [
    "## Example 2: Block Assignment with Holdout Validation\n",
    "In this example, we generate a dataset without covariates using block treatment assignment and use holdout validation for selecting the regularization parameters."
   ],
   "id": "526c2a08eb8622f6"
  },
  {
   "metadata": {
    "ExecuteTime": {
     "end_time": "2024-08-04T19:01:23.240211Z",
     "start_time": "2024-08-04T19:01:21.588332Z"
    }
   },
   "cell_type": "code",
   "source": [
    "data, true_params = generate_data(nobs=1000, nperiods=50, seed=123, assignment_mechanism='block', \n",
    "                                  treated_fraction=0.4, X_cov=False, Z_cov=False, V_cov=False)\n",
    "\n",
    "Y = jnp.array(data.pivot(index='unit', columns='period', values='y').values)\n",
    "W = jnp.array(data.pivot(index='unit', columns='period', values='treat').values)\n",
    "\n",
    "results = estimate(Y, W, validation_method='holdout')\n",
    "\n",
    "print(f\"\\nTrue effect: {true_params['treatment_effect']}, Estimated effect: {results.tau:.4f}\")\n",
    "print(f\"Chosen lambda_L: {results.lambda_L:.4f}, lambda_H: {results.lambda_H:.4f}\")"
   ],
   "id": "9e8f385b8b8aa18d",
   "outputs": [
    {
     "name": "stdout",
     "output_type": "stream",
     "text": [
      "\n",
      "True effect: 1.0, Estimated effect: 1.0305\n",
      "Chosen lambda_L: 0.0010, lambda_H: 0.0010\n"
     ]
    }
   ],
   "execution_count": 4
  },
  {
   "metadata": {},
   "cell_type": "markdown",
   "source": [
    "Here, the `assignment_mechanism` is set to `block`, which means that a specified fraction of units (determined by `treated_fraction`) are treated in the second half of the time periods.\n",
    "The validation_method parameter in the estimate function is set to `holdout`, indicating that holdout validation should be used for selecting the regularization parameters. Holdout validation splits the data into a training set and a validation set based on time. It uses the earlier time periods for training and the later time periods for validation. Holdout validation is typically faster than cross-validation but may be less accurate, especially if the number of time periods is small."
   ],
   "id": "73b77c2807eb8996"
  },
  {
   "metadata": {},
   "cell_type": "markdown",
   "source": [
    "## Example 3: Single Treated Unit with Covariates\n",
    "In this example, we generate a dataset with a single treated unit and include covariates in the estimation."
   ],
   "id": "c32515a2c437e228"
  },
  {
   "metadata": {
    "ExecuteTime": {
     "end_time": "2024-08-04T19:01:24.392744Z",
     "start_time": "2024-08-04T19:01:23.241700Z"
    }
   },
   "cell_type": "code",
   "source": [
    "data, true_params = generate_data(nobs=100, nperiods=200, seed=456, assignment_mechanism='single_treated_unit', \n",
    "                                  X_cov=True, Z_cov=True, V_cov=True)\n",
    "\n",
    "Y = jnp.array(data.pivot(index='unit', columns='period', values='y').values)\n",
    "W = jnp.array(data.pivot(index='unit', columns='period', values='treat').values)\n",
    "X = jnp.array(true_params['X'])\n",
    "Z = jnp.array(true_params['Z'])\n",
    "V = jnp.array(true_params['V'])\n",
    "\n",
    "results = estimate(Y, W, X=X, Z=Z, V=V, K=3)\n",
    "\n",
    "print(f\"\\nTrue effect: {true_params['treatment_effect']}, Estimated effect: {results.tau:.4f}\")\n",
    "print(f\"Chosen lambda_L: {results.lambda_L:.4f}, lambda_H: {results.lambda_H:.4f}\")"
   ],
   "id": "6ebcbab8622b2f78",
   "outputs": [
    {
     "name": "stdout",
     "output_type": "stream",
     "text": [
      "\n",
      "True effect: 1.0, Estimated effect: 1.1468\n",
      "Chosen lambda_L: 0.0010, lambda_H: 0.0010\n"
     ]
    }
   ],
   "execution_count": 5
  },
  {
   "metadata": {},
   "cell_type": "markdown",
   "source": [
    "The `assignment_mechanism` is set to `'single_treated_unit'`, which means that only one randomly selected unit is treated in the second half of the time periods.\n",
    "\n",
    "In this example, we include unit-specific covariates `X`, time-specific covariates `Z`, and unit-time specific covariates `V` in the estimation. The `estimate` function automatically handles the presence of covariates and estimates their coefficients along with the treatment effect.\n",
    "\n",
    "With this specific dataset, the estimated treatment effect is not close to the true treatment effect, as the single treated unit leads to the cross-validation method struggling to find a valid loss during the parameter selection process. The warning message \"No valid loss found in cross_validate\" indicates that the cross-validation procedure could not find a suitable set of regularization parameters that yielded a finite loss value.\n",
    "\n",
    "This issue arises because with only a single treated unit, there might not be enough information to reliably estimate the treatment effect, especially when using cross-validation. The limited treatment variation can make it challenging for the model to distinguish the treatment effect from the noise in the data.\n",
    "\n",
    "In such cases, it may be more appropriate to use a different validation method, such as holdout validation, or to rely on domain knowledge to set the regularization parameters manually. Additionally, increasing the number of observations or treated units can help improve the estimation accuracy and stability.\n",
    "\n",
    "It's important to note that the performance of the estimation method can be sensitive to the specific dataset and the chosen assignment mechanism. While the `estimate` function aims to handle various scenarios, there may be limitations in extreme cases like having only a single treated unit. It's always a good practice to carefully evaluate the results, consider the characteristics of the dataset, and interpret the findings in the context of the specific application."
   ],
   "id": "1c6b3bb9e0f55db4"
  },
  {
   "metadata": {},
   "cell_type": "markdown",
   "source": [
    "## Example 4: Custom Lambda Grid with Cross-Validation\n",
    "\n",
    "In this example, we demonstrate how to use  custom lambda values for cross-validation. As the `n_lambda_L` and `n_lambda_H` parameters are set to 3, the cross-validation method will select the best lambda values from around the specified values."
   ],
   "id": "28885de282b55b85"
  },
  {
   "metadata": {
    "ExecuteTime": {
     "end_time": "2024-08-04T19:01:25.249778Z",
     "start_time": "2024-08-04T19:01:24.393534Z"
    }
   },
   "cell_type": "code",
   "source": [
    "data, true_params = generate_data(nobs=100, nperiods=50, seed=789, assignment_mechanism='staggered')\n",
    "\n",
    "Y = jnp.array(data.pivot(index='unit', columns='period', values='y').values)\n",
    "W = jnp.array(data.pivot(index='unit', columns='period', values='treat').values)\n",
    "\n",
    "results = estimate(Y, W, lambda_L=0.1, n_lambda_L=3, lambda_H=0.01, n_lambda_H=3)\n",
    "\n",
    "print(f\"\\nTrue effect: {true_params['treatment_effect']}, Estimated effect: {results.tau:.4f}\")\n",
    "print(f\"Chosen lambda_L: {results.lambda_L:.4f}, lambda_H: {results.lambda_H:.4f}\")"
   ],
   "id": "533adeedc78a9650",
   "outputs": [
    {
     "name": "stdout",
     "output_type": "stream",
     "text": [
      "\n",
      "True effect: 1.0, Estimated effect: 1.0155\n",
      "Chosen lambda_L: 0.1000, lambda_H: 0.0100\n"
     ]
    }
   ],
   "execution_count": 6
  },
  {
   "metadata": {},
   "cell_type": "markdown",
   "source": [
    "## Example 5: Estimation with Holdout Validation\n",
    "In this example, we generate data with staggered adoption treatment assignment and use holdout validation for selecting the regularization parameters. The `max_window_size` parameter is set to 80, which controls the maximum size of the training window in the holdout validation process."
   ],
   "id": "e97ba235c96b2d2b"
  },
  {
   "metadata": {
    "ExecuteTime": {
     "end_time": "2024-08-04T19:01:26.231605Z",
     "start_time": "2024-08-04T19:01:25.250520Z"
    }
   },
   "cell_type": "code",
   "source": [
    "data, true_params = generate_data(nobs=200, nperiods=100, seed=101, assignment_mechanism='staggered')\n",
    "\n",
    "Y = jnp.array(data.pivot(index='unit', columns='period', values='y').values)\n",
    "W = jnp.array(data.pivot(index='unit', columns='period', values='treat').values)\n",
    "\n",
    "results = estimate(Y, W, validation_method='holdout', max_window_size=80)\n",
    "\n",
    "print(f\"\\nTrue effect: {true_params['treatment_effect']}, Estimated effect: {results.tau:.4f}\")\n",
    "print(f\"Chosen lambda_L: {results.lambda_L:.4f}, lambda_H: {results.lambda_H:.4f}\")"
   ],
   "id": "1e43672a3205965b",
   "outputs": [
    {
     "name": "stdout",
     "output_type": "stream",
     "text": [
      "\n",
      "True effect: 1.0, Estimated effect: 1.0374\n",
      "Chosen lambda_L: 0.0464, lambda_H: 0.0010\n"
     ]
    }
   ],
   "execution_count": 7
  },
  {
   "metadata": {},
   "cell_type": "markdown",
   "source": [
    "## Example 6: Estimation with Pre-specified Lambda Values\n",
    "\n",
    "This example shows how to estimate the model using pre-specified lambda values."
   ],
   "id": "398a39f7c3c6d189"
  },
  {
   "metadata": {
    "ExecuteTime": {
     "end_time": "2024-08-04T19:01:27.250995Z",
     "start_time": "2024-08-04T19:01:26.232358Z"
    }
   },
   "cell_type": "code",
   "source": [
    "data, true_params = generate_data(nobs=150, nperiods=75, seed=202, assignment_mechanism='staggered')\n",
    "\n",
    "Y = jnp.array(data.pivot(index='unit', columns='period', values='y').values)\n",
    "W = jnp.array(data.pivot(index='unit', columns='period', values='treat').values)\n",
    "\n",
    "results = estimate(Y, W, lambda_L=0.05, lambda_H=0.01)\n",
    "\n",
    "print(f\"\\nTrue effect: {true_params['treatment_effect']}, Estimated effect: {results.tau:.4f}\")\n",
    "print(f\"Used lambda_L: {results.lambda_L:.4f}, lambda_H: {results.lambda_H:.4f}\")"
   ],
   "id": "19d4b2103db91295",
   "outputs": [
    {
     "name": "stdout",
     "output_type": "stream",
     "text": [
      "\n",
      "True effect: 1.0, Estimated effect: 1.0352\n",
      "Used lambda_L: 0.0500, lambda_H: 0.0100\n"
     ]
    }
   ],
   "execution_count": 8
  },
  {
   "metadata": {},
   "cell_type": "markdown",
   "source": [
    "## Example 7: Estimation with Autocorrelation\n",
    "\n",
    "In this example, we generate data with autocorrelation (see section 8.3 of [Athey et al. (2021)](https://www.tandfonline.com/doi/full/10.1080/01621459.2021.1891924)) and use a custom Omega matrix in estimation."
   ],
   "id": "bba79241d63d5888"
  },
  {
   "metadata": {
    "ExecuteTime": {
     "end_time": "2024-08-04T19:01:28.265367Z",
     "start_time": "2024-08-04T19:01:27.251614Z"
    }
   },
   "cell_type": "code",
   "source": [
    "data, true_params = generate_data(nobs=120, nperiods=60, seed=303, assignment_mechanism='staggered', autocorrelation=0.5)\n",
    "\n",
    "Y = jnp.array(data.pivot(index='unit', columns='period', values='y').values)\n",
    "W = jnp.array(data.pivot(index='unit', columns='period', values='treat').values)\n",
    "\n",
    "# Create custom Omega matrix with AR(1) structure\n",
    "rho = 0.5\n",
    "T = Y.shape[1]\n",
    "Omega = jnp.power(rho, jnp.abs(jnp.arange(T)[:, None] - jnp.arange(T)))\n",
    "\n",
    "results = estimate(Y, W, Omega=Omega)\n",
    "\n",
    "print(f\"\\nTrue effect: {true_params['treatment_effect']}, Estimated effect: {results.tau:.4f}\")\n",
    "print(f\"Chosen lambda_L: {results.lambda_L:.4f}, lambda_H: {results.lambda_H:.4f}\")"
   ],
   "id": "87cd3deef5f42db1",
   "outputs": [
    {
     "name": "stdout",
     "output_type": "stream",
     "text": [
      "\n",
      "True effect: 1.0, Estimated effect: 0.9895\n",
      "Chosen lambda_L: 0.0010, lambda_H: 0.0010\n"
     ]
    }
   ],
   "execution_count": 9
  },
  {
   "metadata": {},
   "cell_type": "markdown",
   "source": [
    "## Example 8: Matrix Completion\n",
    "\n",
    "This example demonstrates how to use the `complete_matrix()` function to impute missing values."
   ],
   "id": "749eb646eed6c068"
  },
  {
   "metadata": {
    "ExecuteTime": {
     "end_time": "2024-08-04T19:02:57.623211Z",
     "start_time": "2024-08-04T19:02:56.743072Z"
    }
   },
   "cell_type": "code",
   "source": [
    "data, true_params = generate_data(nobs=200, nperiods=40, seed=404, treatment_probability=0.2)\n",
    "\n",
    "Y = jnp.array(data.pivot(index='unit', columns='period', values='y').values)\n",
    "W = jnp.array(data.pivot(index='unit', columns='period', values='treat').values)  # randomly mask out entries\n",
    "\n",
    "results = complete_matrix(Y, W)\n",
    "\n",
    "print(f\"Chosen lambda_L: {results.lambda_L:.4f}, lambda_H: {results.lambda_H:.4f}\")\n",
    "print(f\"Mean absolute error of imputation: {jnp.mean(jnp.abs(Y - results.Y_completed)):.4f}\")"
   ],
   "id": "c3e5d22b85e3c59a",
   "outputs": [
    {
     "name": "stdout",
     "output_type": "stream",
     "text": [
      "Chosen lambda_L: 0.0010, lambda_H: 0.0010\n",
      "Mean absolute error of imputation: 1.8653\n"
     ]
    }
   ],
   "execution_count": 11
  },
  {
   "metadata": {},
   "cell_type": "markdown",
   "source": [
    "## Example 9: Different Treatment Assignment Mechanisms\n",
    "\n",
    "This example showcases the 'single_treated_period' and 'last_periods' assignment mechanisms."
   ],
   "id": "e7efc83eb0bfaf75"
  },
  {
   "metadata": {
    "ExecuteTime": {
     "end_time": "2024-08-04T19:03:14.008923Z",
     "start_time": "2024-08-04T19:03:12.091286Z"
    }
   },
   "cell_type": "code",
   "source": [
    "# Single treated period\n",
    "data_single, true_params_single = generate_data(nobs=200, nperiods=100, seed=505, \n",
    "                                                assignment_mechanism='single_treated_period')\n",
    "\n",
    "Y_single = jnp.array(data_single.pivot(index='unit', columns='period', values='y').values)\n",
    "W_single = jnp.array(data_single.pivot(index='unit', columns='period', values='treat').values)\n",
    "\n",
    "results_single = estimate(Y_single, W_single)\n",
    "\n",
    "print(\"Single Treated Period:\")\n",
    "print(f\"True effect: {true_params_single['treatment_effect']}, Estimated effect: {results_single.tau:.4f}\")\n",
    "\n",
    "# Last periods treated\n",
    "data_last, true_params_last = generate_data(nobs=200, nperiods=100, seed=606, \n",
    "                                            assignment_mechanism='last_periods', last_treated_periods=20)\n",
    "\n",
    "Y_last = jnp.array(data_last.pivot(index='unit', columns='period', values='y').values)\n",
    "W_last = jnp.array(data_last.pivot(index='unit', columns='period', values='treat').values)\n",
    "\n",
    "results_last = estimate(Y_last, W_last)\n",
    "\n",
    "print(\"\\nLast Periods Treated:\")\n",
    "print(f\"True effect: {true_params_last['treatment_effect']}, Estimated effect: {results_last.tau:.4f}\")"
   ],
   "id": "9038c5a4246d8135",
   "outputs": [
    {
     "name": "stdout",
     "output_type": "stream",
     "text": [
      "Single Treated Period:\n",
      "True effect: 1.0, Estimated effect: 0.5286\n",
      "\n",
      "Last Periods Treated:\n",
      "True effect: 1.0, Estimated effect: 1.0349\n"
     ]
    }
   ],
   "execution_count": 12
  },
  {
   "metadata": {},
   "cell_type": "markdown",
   "source": [
    "# Covariates\n",
    "The `generate_data` function allows you to include three types of covariates in the generated dataset:\n",
    "\n",
    "1. **Unit-specific covariates (X):** These are characteristics or features that vary across units but remain constant over time. For example, in a study of students' academic performance, unit-specific covariates could include variables like gender, age, or socioeconomic status. These covariates capture the inherent differences between units that may influence the outcome variable.\n",
    "2. **Time-specific covariates (Z):** These are factors that change over time but are the same for all units at each time point. For instance, in an analysis of sales data, time-specific covariates could include variables like market trends, seasonal effects, or economic indicators. These covariates reflect the temporal variations that affect all units simultaneously.\n",
    "3. **Unit-time specific covariates (V):** These are covariates that vary both across units and over time. They capture the unique characteristics of each unit at each time point. For example, in a healthcare study, unit-time specific covariates could include individual patients' medical measurements or treatment adherence recorded at different time points. These covariates allow for capturing the dynamic and personalized aspects of each unit's experience.\n",
    "\n",
    "These three options are available for estimation, mirroring the description of the estimator in [Athey et al. (2021)](https://www.tandfonline.com/doi/full/10.1080/01621459.2021.1891924).\n",
    "\n",
    "In the `generate_data` function, you can control the inclusion of these covariates using the boolean flags X_cov, Z_cov, and V_cov. Setting these flags to True incorporates the respective type of covariates into the generated dataset, while setting them to False excludes them."
   ],
   "id": "7d5694fda39da545"
  }
 ],
 "metadata": {
  "kernelspec": {
   "display_name": "Python 3",
   "language": "python",
   "name": "python3"
  },
  "language_info": {
   "codemirror_mode": {
    "name": "ipython",
    "version": 2
   },
   "file_extension": ".py",
   "mimetype": "text/x-python",
   "name": "python",
   "nbconvert_exporter": "python",
   "pygments_lexer": "ipython2",
   "version": "2.7.6"
  }
 },
 "nbformat": 4,
 "nbformat_minor": 5
}
