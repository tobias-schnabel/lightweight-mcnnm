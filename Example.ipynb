{
 "cells": [
  {
   "cell_type": "markdown",
   "id": "2c4f6cae7a26ec78",
   "metadata": {},
   "source": [
    "## Note: The examples used in this notebook are meant to demonstrate functionality, not showcase estimation accuracy. The synthetic data generated for these examples may not reflect real-world scenarios accurately. The purpose is to illustrate how to use the `estimate` function with different settings and validation methods.\n",
    "### Note: This notebook was run on my local machine and the results are displayed here. The code cannot be run in Colab. The execution times displayed were obtained on a All results were obtained on a 2021 10-core Apple M1 Pro CPU."
   ]
  },
  {
   "cell_type": "code",
   "execution_count": 1,
   "id": "edc868e553979442",
   "metadata": {
    "ExecuteTime": {
     "end_time": "2024-09-01T15:37:37.662156Z",
     "start_time": "2024-09-01T15:37:37.032307Z"
    }
   },
   "outputs": [],
   "source": [
    "import jax.numpy as jnp\n",
    "from src.mcnnm.utils import generate_data\n",
    "from src.mcnnm.wrappers import complete_matrix, estimate"
   ]
  },
  {
   "cell_type": "markdown",
   "id": "6e3bb5397c3bf295",
   "metadata": {},
   "source": [
    "## Example 1: Staggered Adoption with Cross-Validation (Default)\n",
    "In this example, we generate a dataset with covariates and staggered adoption treatment assignment and use the default cross-validation method for selecting the regularization parameters. Cross-validation is currently not parallelized and may take longer to run on large datasets or smaller processors."
   ]
  },
  {
   "cell_type": "code",
   "execution_count": 2,
   "id": "f9d5f734290a1949",
   "metadata": {
    "ExecuteTime": {
     "end_time": "2024-09-01T15:37:45.156167Z",
     "start_time": "2024-09-01T15:37:37.704599Z"
    }
   },
   "outputs": [
    {
     "name": "stdout",
     "output_type": "stream",
     "text": [
      "\n",
      "True effect: 5.0, Estimated effect: 5.435\n",
      "Chosen lambda_L: 0.0000, lambda_H: 0.1209\n"
     ]
    }
   ],
   "source": [
    "Y, W, X, Z, V, true_params = generate_data(\n",
    "    nobs=50,\n",
    "    nperiods=10,\n",
    "    unit_fe=True,\n",
    "    time_fe=True,\n",
    "    X_cov=True,\n",
    "    Z_cov=True,\n",
    "    V_cov=True,\n",
    "    seed=2024,\n",
    "    noise_scale=0.1,\n",
    "    autocorrelation=0.0,\n",
    "    assignment_mechanism=\"staggered\",\n",
    "    treatment_probability=0.1,\n",
    ")\n",
    "\n",
    "# Run estimation\n",
    "results = estimate(\n",
    "    Y=Y,\n",
    "    Mask=W,\n",
    "    X=X,\n",
    "    Z=Z,\n",
    "    V=V,\n",
    "    Omega=None,\n",
    "    use_unit_fe=True,\n",
    "    use_time_fe=True,\n",
    "    lambda_L=None,\n",
    "    lambda_H=None,\n",
    "    validation_method=\"cv\",\n",
    "    K=3,\n",
    "    n_lambda=30,\n",
    ")\n",
    "\n",
    "print(f\"\\nTrue effect: {true_params['treatment_effect']}, Estimated effect: {results.tau:.3f}\")\n",
    "print(f\"Chosen lambda_L: {results.lambda_L:.4f}, lambda_H: {results.lambda_H:.4f}\")"
   ]
  },
  {
   "cell_type": "markdown",
   "id": "80d9bed6f21c790e",
   "metadata": {},
   "source": [
    "The `generate_data` function is used to create a synthetic dataset with staggered adoption treatment assignment. The assignment_mechanism parameter is set to `staggered`, which means that each unit adopts the treatment at a random time point with a specified probability.\n",
    "By default, the estimate function uses cross-validation to select the optimal regularization parameters lambda_L and lambda_H. Cross-validation splits the data into K folds (default is 5) and evaluates the model performance on each fold to select the best parameters."
   ]
  },
  {
   "cell_type": "markdown",
   "id": "526c2a08eb8622f6",
   "metadata": {},
   "source": [
    "## Example 2: Block Assignment with Holdout Validation\n",
    "In this example, we generate a dataset without covariates using block treatment assignment and use holdout validation for selecting the regularization parameters."
   ]
  },
  {
   "cell_type": "code",
   "execution_count": 3,
   "id": "9e8f385b8b8aa18d",
   "metadata": {
    "ExecuteTime": {
     "end_time": "2024-09-01T15:37:46.856628Z",
     "start_time": "2024-09-01T15:37:45.297716Z"
    }
   },
   "outputs": [
    {
     "name": "stdout",
     "output_type": "stream",
     "text": [
      "\n",
      "True effect: 5.0, Estimated effect: 5.657\n",
      "Chosen lambda_L: 0.0000, lambda_H: 0.0342\n"
     ]
    }
   ],
   "source": [
    "Y, W, X, Z, V, true_params = generate_data(\n",
    "    nobs=50,\n",
    "    nperiods=10,\n",
    "    unit_fe=True,\n",
    "    time_fe=True,\n",
    "    X_cov=False,\n",
    "    Z_cov=False,\n",
    "    V_cov=False,\n",
    "    seed=2024,\n",
    "    noise_scale=0.1,\n",
    "    autocorrelation=0.0,\n",
    "    assignment_mechanism=\"block\",\n",
    "    treated_fraction=0.1,\n",
    ")\n",
    "\n",
    "# Run estimation\n",
    "results = estimate(\n",
    "    Y=Y,\n",
    "    Mask=W,\n",
    "    X=X,\n",
    "    Z=Z,\n",
    "    V=V,\n",
    "    Omega=None,\n",
    "    use_unit_fe=True,\n",
    "    use_time_fe=True,\n",
    "    lambda_L=None,\n",
    "    lambda_H=None,\n",
    "    validation_method=\"cv\",\n",
    "    K=2,\n",
    "    n_lambda=10,\n",
    ")\n",
    "\n",
    "print(f\"\\nTrue effect: {true_params['treatment_effect']}, Estimated effect: {results.tau:.3f}\")\n",
    "print(f\"Chosen lambda_L: {results.lambda_L:.4f}, lambda_H: {results.lambda_H:.4f}\")"
   ]
  },
  {
   "cell_type": "markdown",
   "id": "73b77c2807eb8996",
   "metadata": {},
   "source": [
    "Here, the `assignment_mechanism` is set to `block`, which means that a specified fraction of units (determined by `treated_fraction`) are treated in the second half of the time periods.\n",
    "The validation_method parameter in the estimate function is set to `holdout`, indicating that holdout validation should be used for selecting the regularization parameters. Holdout validation splits the data into a training set and a validation set based on time. It uses the earlier time periods for training and the later time periods for validation. Holdout validation is typically faster than cross-validation but may be less accurate, especially if the number of time periods is small."
   ]
  },
  {
   "cell_type": "markdown",
   "id": "c32515a2c437e228",
   "metadata": {},
   "source": [
    "## Example 3: Single Treated Unit with Covariates\n",
    "In this example, we generate a dataset with a single treated unit and include covariates in the estimation."
   ]
  },
  {
   "cell_type": "code",
   "execution_count": 4,
   "id": "6ebcbab8622b2f78",
   "metadata": {
    "ExecuteTime": {
     "end_time": "2024-09-01T15:37:50.176937Z",
     "start_time": "2024-09-01T15:37:46.880317Z"
    }
   },
   "outputs": [
    {
     "name": "stdout",
     "output_type": "stream",
     "text": [
      "\n",
      "True effect: 5.0, Estimated effect: 6.856\n",
      "Chosen lambda_L: 0.0000, lambda_H: 0.0981\n"
     ]
    }
   ],
   "source": [
    "Y, W, X, Z, V, true_params = generate_data(\n",
    "    nobs=50,\n",
    "    nperiods=10,\n",
    "    unit_fe=True,\n",
    "    time_fe=True,\n",
    "    X_cov=True,\n",
    "    Z_cov=True,\n",
    "    V_cov=True,\n",
    "    seed=2024,\n",
    "    noise_scale=0.1,\n",
    "    assignment_mechanism=\"single_treated_unit\",\n",
    ")\n",
    "\n",
    "# Run estimation\n",
    "results = estimate(\n",
    "    Y=Y,\n",
    "    Mask=W,\n",
    "    X=X,\n",
    "    Z=Z,\n",
    "    V=V,\n",
    "    Omega=None,\n",
    "    use_unit_fe=True,\n",
    "    use_time_fe=True,\n",
    "    lambda_L=None,\n",
    "    lambda_H=None,\n",
    "    validation_method=\"cv\",\n",
    "    K=3,\n",
    "    n_lambda=20,\n",
    ")\n",
    "\n",
    "print(f\"\\nTrue effect: {true_params['treatment_effect']}, Estimated effect: {results.tau:.3f}\")\n",
    "print(f\"Chosen lambda_L: {results.lambda_L:.4f}, lambda_H: {results.lambda_H:.4f}\")"
   ]
  },
  {
   "cell_type": "markdown",
   "id": "1c6b3bb9e0f55db4",
   "metadata": {},
   "source": [
    "The `assignment_mechanism` is set to `'single_treated_unit'`, which means that only one randomly selected unit is treated in the second half of the time periods.\n",
    "\n",
    "In this example, we include unit-specific covariates `X`, time-specific covariates `Z`, and unit-time specific covariates `V` in the estimation. The `estimate` function automatically handles the presence of covariates and estimates their coefficients along with the treatment effect.\n",
    "\n",
    "With this specific dataset, the estimated treatment effect is not close to the true treatment effect, as the single treated unit leads to the cross-validation method struggling to find a valid loss during the parameter selection process. The warning message \"No valid loss found in cross_validate\" indicates that the cross-validation procedure could not find a suitable set of regularization parameters that yielded a finite loss value.\n",
    "\n",
    "This issue arises because with only a single treated unit, there might not be enough information to reliably estimate the treatment effect, especially when using cross-validation. The limited treatment variation can make it challenging for the model to distinguish the treatment effect from the noise in the data.\n",
    "\n",
    "In such cases, it may be more appropriate to use a different validation method, such as holdout validation, or to rely on domain knowledge to set the regularization parameters manually. Additionally, increasing the number of observations or treated units can help improve the estimation accuracy and stability.\n",
    "\n",
    "It's important to note that the performance of the estimation method can be sensitive to the specific dataset and the chosen assignment mechanism. While the `estimate` function aims to handle various scenarios, there may be limitations in extreme cases like having only a single treated unit. It's always a good practice to carefully evaluate the results, consider the characteristics of the dataset, and interpret the findings in the context of the specific application."
   ]
  },
  {
   "cell_type": "markdown",
   "id": "e97ba235c96b2d2b",
   "metadata": {},
   "source": [
    "## Example 4: Estimation with Holdout Validation\n",
    "In this example, we generate data without covariates and staggered adoption treatment assignment and use holdout validation for selecting the regularization parameters. The `max_window_size` parameter is set to 80, which controls the maximum size of the training window in the holdout validation process."
   ]
  },
  {
   "cell_type": "code",
   "execution_count": 5,
   "id": "1e43672a3205965b",
   "metadata": {
    "ExecuteTime": {
     "end_time": "2024-09-01T15:37:56.719899Z",
     "start_time": "2024-09-01T15:37:50.184749Z"
    }
   },
   "outputs": [
    {
     "name": "stdout",
     "output_type": "stream",
     "text": [
      "\n",
      "True effect: 5.0, Estimated effect: 5.185\n",
      "Chosen lambda_L: 0.0000, lambda_H: 0.0219\n"
     ]
    }
   ],
   "source": [
    "Y, W, X, Z, V, true_params = generate_data(\n",
    "    nobs=50,\n",
    "    nperiods=100,\n",
    "    unit_fe=True,\n",
    "    time_fe=True,\n",
    "    X_cov=False,\n",
    "    Z_cov=False,\n",
    "    V_cov=False,\n",
    "    seed=2024,\n",
    "    noise_scale=0.1,\n",
    "    assignment_mechanism=\"staggered\",\n",
    "    treatment_probability=0.1,\n",
    ")\n",
    "\n",
    "# Run estimation\n",
    "results = estimate(\n",
    "    Y=Y,\n",
    "    Mask=W,\n",
    "    X=X,\n",
    "    Z=Z,\n",
    "    V=V,\n",
    "    Omega=None,\n",
    "    use_unit_fe=True,\n",
    "    use_time_fe=True,\n",
    "    lambda_L=None,\n",
    "    lambda_H=None,\n",
    "    validation_method=\"holdout\",\n",
    "    initial_window=50,\n",
    "    max_window_size=80,\n",
    "    step_size=10,\n",
    "    horizon=5,\n",
    "    K=5,\n",
    "    n_lambda=30,\n",
    ")\n",
    "\n",
    "print(f\"\\nTrue effect: {true_params['treatment_effect']}, Estimated effect: {results.tau:.3f}\")\n",
    "print(f\"Chosen lambda_L: {results.lambda_L:.4f}, lambda_H: {results.lambda_H:.4f}\")"
   ]
  },
  {
   "cell_type": "markdown",
   "id": "398a39f7c3c6d189",
   "metadata": {},
   "source": [
    "## Example 5: Estimation with Pre-specified Lambda Values\n",
    "\n",
    "This example shows how to estimate the model using pre-specified lambda values. The data is generated as in Example 1. Specifying both lambda values bypasses the validation process."
   ]
  },
  {
   "cell_type": "code",
   "execution_count": 6,
   "id": "19d4b2103db91295",
   "metadata": {
    "ExecuteTime": {
     "end_time": "2024-09-01T15:37:57.153511Z",
     "start_time": "2024-09-01T15:37:56.732701Z"
    }
   },
   "outputs": [
    {
     "name": "stdout",
     "output_type": "stream",
     "text": [
      "\n",
      "True effect: 5.0, Estimated effect: 5.57\n"
     ]
    }
   ],
   "source": [
    "Y, W, X, Z, V, true_params = generate_data(\n",
    "    nobs=50,\n",
    "    nperiods=10,\n",
    "    unit_fe=True,\n",
    "    time_fe=True,\n",
    "    X_cov=True,\n",
    "    Z_cov=True,\n",
    "    V_cov=True,\n",
    "    seed=2024,\n",
    "    noise_scale=0.1,\n",
    "    autocorrelation=0.0,\n",
    "    assignment_mechanism=\"staggered\",\n",
    "    treatment_probability=0.1,\n",
    ")\n",
    "\n",
    "# Run estimation\n",
    "results = estimate(\n",
    "    Y=Y,\n",
    "    Mask=W,\n",
    "    X=X,\n",
    "    Z=Z,\n",
    "    V=V,\n",
    "    Omega=None,\n",
    "    use_unit_fe=True,\n",
    "    use_time_fe=True,\n",
    "    lambda_L=0.001,\n",
    "    lambda_H=0.01,\n",
    ")\n",
    "\n",
    "print(f\"\\nTrue effect: {true_params['treatment_effect']}, Estimated effect: {results.tau:.2f}\")"
   ]
  },
  {
   "cell_type": "markdown",
   "id": "bba79241d63d5888",
   "metadata": {},
   "source": [
    "## Example 6: Estimation with Autocorrelation\n",
    "\n",
    "In this example, we generate data with autocorrelation (see section 8.3 of [Athey et al. (2021)](https://www.tandfonline.com/doi/full/10.1080/01621459.2021.1891924)) and use a custom Omega matrix in estimation."
   ]
  },
  {
   "cell_type": "code",
   "execution_count": 7,
   "id": "87cd3deef5f42db1",
   "metadata": {
    "ExecuteTime": {
     "end_time": "2024-09-01T15:38:03.828924Z",
     "start_time": "2024-09-01T15:37:57.170915Z"
    }
   },
   "outputs": [
    {
     "name": "stdout",
     "output_type": "stream",
     "text": [
      "\n",
      "True effect: 5.0, Estimated effect: 4.593369756478\n",
      "Chosen lambda_L: 0.0000, lambda_H: 0.1695\n"
     ]
    }
   ],
   "source": [
    "Y, W, X, Z, V, true_params = generate_data(\n",
    "    nobs=50,\n",
    "    nperiods=10,\n",
    "    unit_fe=True,\n",
    "    time_fe=True,\n",
    "    X_cov=True,\n",
    "    Z_cov=True,\n",
    "    V_cov=True,\n",
    "    seed=2024,\n",
    "    noise_scale=0.1,\n",
    "    autocorrelation=0.5,\n",
    "    assignment_mechanism=\"last_periods\",\n",
    "    last_treated_periods=5,\n",
    ")\n",
    "\n",
    "# Create custom Omega matrix with AR(1) structure\n",
    "rho = 0.5\n",
    "T = Y.shape[1]\n",
    "Omega = jnp.power(rho, jnp.abs(jnp.arange(T)[:, None] - jnp.arange(T)))\n",
    "\n",
    "# Run estimation\n",
    "results = estimate(\n",
    "    Y=Y,\n",
    "    Mask=W,\n",
    "    X=X,\n",
    "    Z=Z,\n",
    "    V=V,\n",
    "    Omega=Omega,\n",
    "    use_unit_fe=True,\n",
    "    use_time_fe=True,\n",
    "    lambda_L=None,\n",
    "    lambda_H=None,\n",
    "    validation_method=\"holdout\",\n",
    "    initial_window=2,\n",
    "    max_window_size=None,\n",
    "    step_size=1,\n",
    "    horizon=1,\n",
    "    K=3,\n",
    "    n_lambda=30,\n",
    ")\n",
    "\n",
    "print(f\"\\nTrue effect: {true_params['treatment_effect']}, Estimated effect: {results.tau:.12f}\")\n",
    "print(f\"Chosen lambda_L: {results.lambda_L:.4f}, lambda_H: {results.lambda_H:.4f}\")"
   ]
  },
  {
   "cell_type": "markdown",
   "id": "749eb646eed6c068",
   "metadata": {},
   "source": [
    "## Example 7: Matrix Completion\n",
    "\n",
    "This example demonstrates how to use the `complete_matrix()` function to impute missing values. The data and estimation parameters are identical to Example 2. Note that the `complete_matrix()` function does not estimate the treatment effect but focuses on imputing the missing entries in the outcome matrix. It returns the imputed matrix along with the chosen regularization parameters in an unnamed tuple."
   ]
  },
  {
   "cell_type": "code",
   "execution_count": 8,
   "id": "c3e5d22b85e3c59a",
   "metadata": {
    "ExecuteTime": {
     "end_time": "2024-09-01T15:38:04.420627Z",
     "start_time": "2024-09-01T15:38:03.844895Z"
    }
   },
   "outputs": [
    {
     "name": "stdout",
     "output_type": "stream",
     "text": [
      "Chosen lambda_L: 0.0000, lambda_H: 0.0342\n",
      "Mean absolute error of imputation: 0.3960\n",
      "Mean squared error of imputation: 2.6292\n",
      "Mean of Y: 10.2857, Mean of Y_completed: 9.8897\n"
     ]
    }
   ],
   "source": [
    "Y, W, X, Z, V, true_params = generate_data(\n",
    "    nobs=50,\n",
    "    nperiods=10,\n",
    "    unit_fe=True,\n",
    "    time_fe=True,\n",
    "    X_cov=False,\n",
    "    Z_cov=False,\n",
    "    V_cov=False,\n",
    "    seed=2024,\n",
    "    noise_scale=0.1,\n",
    "    autocorrelation=0.0,\n",
    "    assignment_mechanism=\"block\",\n",
    "    treated_fraction=0.1,\n",
    ")\n",
    "\n",
    "# Run estimation\n",
    "Y_completed, opt_lambda_L, opt_lambda_H = complete_matrix(\n",
    "    Y=Y,\n",
    "    Mask=W,\n",
    "    X=X,\n",
    "    Z=Z,\n",
    "    V=V,\n",
    "    Omega=None,\n",
    "    use_unit_fe=True,\n",
    "    use_time_fe=True,\n",
    "    lambda_L=None,\n",
    "    lambda_H=None,\n",
    "    validation_method=\"cv\",\n",
    "    K=2,\n",
    "    n_lambda=10,\n",
    ")\n",
    "\n",
    "print(f\"Chosen lambda_L: {opt_lambda_L:.4f}, lambda_H: {opt_lambda_H:.4f}\")\n",
    "print(f\"Mean absolute error of imputation: {jnp.mean(jnp.abs(Y - Y_completed)):.4f}\")\n",
    "print(f\"Mean squared error of imputation: {jnp.mean(jnp.square(Y - Y_completed)):.4f}\")\n",
    "print(f\"Mean of Y: {jnp.mean(Y):.4f}, Mean of Y_completed: {jnp.mean(Y_completed):.4f}\")"
   ]
  },
  {
   "cell_type": "markdown",
   "id": "7d5694fda39da545",
   "metadata": {},
   "source": [
    "# Covariates\n",
    "The `generate_data` function allows you to include three types of covariates in the generated dataset:\n",
    "\n",
    "1. **Unit-specific covariates (X):** These are characteristics or features that vary across units but remain constant over time. For example, in a study of students' academic performance, unit-specific covariates could include variables like gender, age, or socioeconomic status. These covariates capture the inherent differences between units that may influence the outcome variable.\n",
    "2. **Time-specific covariates (Z):** These are factors that change over time but are the same for all units at each time point. For instance, in an analysis of sales data, time-specific covariates could include variables like market trends, seasonal effects, or economic indicators. These covariates reflect the temporal variations that affect all units simultaneously.\n",
    "3. **Unit-time specific covariates (V):** These are covariates that vary both across units and over time. They capture the unique characteristics of each unit at each time point. For example, in a healthcare study, unit-time specific covariates could include individual patients' medical measurements or treatment adherence recorded at different time points. These covariates allow for capturing the dynamic and personalized aspects of each unit's experience.\n",
    "\n",
    "These three options are available for estimation, mirroring the description of the estimator in [Athey et al. (2021)](https://www.tandfonline.com/doi/full/10.1080/01621459.2021.1891924).\n",
    "\n",
    "In the `generate_data` function, you can control the inclusion of these covariates using the boolean flags X_cov, Z_cov, and V_cov. Setting these flags to True incorporates the respective type of covariates into the generated dataset, while setting them to False excludes them."
   ]
  }
 ],
 "metadata": {
  "kernelspec": {
   "display_name": "Python 3",
   "language": "python",
   "name": "python3"
  },
  "language_info": {
   "codemirror_mode": {
    "name": "ipython",
    "version": 2
   },
   "file_extension": ".py",
   "mimetype": "text/x-python",
   "name": "python",
   "nbconvert_exporter": "python",
   "pygments_lexer": "ipython2",
   "version": "2.7.6"
  }
 },
 "nbformat": 4,
 "nbformat_minor": 5
}
