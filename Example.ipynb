{
 "cells": [
  {
   "cell_type": "code",
   "id": "initial_id",
   "metadata": {
    "collapsed": true,
    "ExecuteTime": {
     "end_time": "2024-07-21T07:26:27.273555Z",
     "start_time": "2024-07-21T07:26:27.268946Z"
    }
   },
   "source": [
    "!pip install --no-cache-dir --index-url https://test.pypi.org/simple/ --extra-index-url https://pypi.org/simple lightweight-mcnnm\n",
    "import platform\n",
    "import jax\n",
    "import jax.numpy as jnp\n",
    "from mcnnm import estimate, generate_data, complete_matrix"
   ],
   "outputs": [],
   "execution_count": 6
  },
  {
   "metadata": {
    "ExecuteTime": {
     "end_time": "2024-07-21T07:26:27.278158Z",
     "start_time": "2024-07-21T07:26:27.275673Z"
    }
   },
   "cell_type": "code",
   "source": [
    "# Check if the platform is macOS and the machine is Apple Silicon (ARM architecture)\n",
    "if platform.system() == \"Darwin\" and platform.machine() == \"arm64\":\n",
    "    jax.config.update('jax_platforms', 'cpu')  # Avoid problems with Metal on Apple Silicon Machines"
   ],
   "id": "ce14391b291fd6ce",
   "outputs": [],
   "execution_count": 7
  },
  {
   "metadata": {},
   "cell_type": "markdown",
   "source": [
    "## Example 1: Staggered Adoption with Cross-Validation (Default)\n",
    "In this example, we generate a dataset with covariates and staggered adoption treatment assignment and use the default cross-validation method for selecting the regularization parameters."
   ],
   "id": "6e3bb5397c3bf295"
  },
  {
   "metadata": {
    "ExecuteTime": {
     "end_time": "2024-07-21T07:28:06.389925Z",
     "start_time": "2024-07-21T07:26:27.279196Z"
    }
   },
   "cell_type": "code",
   "source": [
    "data, true_params = generate_data(nobs=500, nperiods=100, seed=42, assignment_mechanism='staggered', \n",
    "                                  X_cov=True, Z_cov=True, V_cov=True)\n",
    "\n",
    "Y = jnp.array(data.pivot(index='unit', columns='period', values='y').values)\n",
    "W = jnp.array(data.pivot(index='unit', columns='period', values='treat').values)\n",
    "X = jnp.array(true_params['X'])\n",
    "Z = jnp.array(true_params['Z'])\n",
    "V = jnp.array(true_params['V'])\n",
    "\n",
    "results = estimate(Y, W, X=X, Z=Z, V=V)\n",
    "\n",
    "print(f\"\\nTrue effect: {true_params['treatment_effect']}, Estimated effect: {results.tau:.4f}\")\n",
    "print(f\"Chosen lambda_L: {results.lambda_L:.4f}, lambda_H: {results.lambda_H:.4f}\")"
   ],
   "id": "f9d5f734290a1949",
   "outputs": [
    {
     "name": "stdout",
     "output_type": "stream",
     "text": [
      "\n",
      "True effect: 1.0, Estimated effect: 1.0200\n",
      "Chosen lambda_L: 0.0010, lambda_H: 0.0010\n"
     ]
    }
   ],
   "execution_count": 8
  },
  {
   "metadata": {},
   "cell_type": "markdown",
   "source": [
    "The `generate_data` function is used to create a synthetic dataset with staggered adoption treatment assignment. The assignment_mechanism parameter is set to `staggered`, which means that each unit adopts the treatment at a random time point with a specified probability.\n",
    "By default, the estimate function uses cross-validation to select the optimal regularization parameters lambda_L and lambda_H. Cross-validation splits the data into K folds (default is 5) and evaluates the model performance on each fold to select the best parameters."
   ],
   "id": "80d9bed6f21c790e"
  },
  {
   "metadata": {},
   "cell_type": "markdown",
   "source": [
    "## Example 2: Block Assignment with Holdout Validation\n",
    "In this example, we generate a dataset without covariates using block treatment assignment and use holdout validation for selecting the regularization parameters."
   ],
   "id": "526c2a08eb8622f6"
  },
  {
   "metadata": {
    "ExecuteTime": {
     "end_time": "2024-07-21T07:28:09.009961Z",
     "start_time": "2024-07-21T07:28:06.391161Z"
    }
   },
   "cell_type": "code",
   "source": [
    "data, true_params = generate_data(nobs=1000, nperiods=50, seed=123, assignment_mechanism='block', \n",
    "                                  treated_fraction=0.4, X_cov=False, Z_cov=False, V_cov=False)\n",
    "\n",
    "Y = jnp.array(data.pivot(index='unit', columns='period', values='y').values)\n",
    "W = jnp.array(data.pivot(index='unit', columns='period', values='treat').values)\n",
    "\n",
    "results = estimate(Y, W, validation_method='holdout')\n",
    "\n",
    "print(f\"\\nTrue effect: {true_params['treatment_effect']}, Estimated effect: {results.tau:.4f}\")\n",
    "print(f\"Chosen lambda_L: {results.lambda_L:.4f}, lambda_H: {results.lambda_H:.4f}\")"
   ],
   "id": "9e8f385b8b8aa18d",
   "outputs": [
    {
     "name": "stdout",
     "output_type": "stream",
     "text": [
      "\n",
      "True effect: 1.0, Estimated effect: 1.0305\n",
      "Chosen lambda_L: 0.0010, lambda_H: 0.0010\n"
     ]
    }
   ],
   "execution_count": 9
  },
  {
   "metadata": {},
   "cell_type": "markdown",
   "source": [
    "Here, the `assignment_mechanism` is set to `block`, which means that a specified fraction of units (determined by `treated_fraction`) are treated in the second half of the time periods.\n",
    "The validation_method parameter in the estimate function is set to `holdout`, indicating that holdout validation should be used for selecting the regularization parameters. Holdout validation splits the data into a training set and a validation set based on time. It uses the earlier time periods for training and the later time periods for validation. Holdout validation is susbtantially faster than cross-validation but may be less accurate, especially if the number of time periods is small."
   ],
   "id": "73b77c2807eb8996"
  },
  {
   "metadata": {},
   "cell_type": "markdown",
   "source": [
    "## Example 3: Single Treated Unit with Covariates\n",
    "In this example, we generate a dataset with a single treated unit and include covariates in the estimation."
   ],
   "id": "c32515a2c437e228"
  },
  {
   "metadata": {
    "ExecuteTime": {
     "end_time": "2024-07-21T07:28:10.443276Z",
     "start_time": "2024-07-21T07:28:09.010765Z"
    }
   },
   "cell_type": "code",
   "source": [
    "data, true_params = generate_data(nobs=100, nperiods=200, seed=456, assignment_mechanism='single_treated_unit', \n",
    "                                  X_cov=True, Z_cov=True, V_cov=True)\n",
    "\n",
    "Y = jnp.array(data.pivot(index='unit', columns='period', values='y').values)\n",
    "W = jnp.array(data.pivot(index='unit', columns='period', values='treat').values)\n",
    "X = jnp.array(true_params['X'])\n",
    "Z = jnp.array(true_params['Z'])\n",
    "V = jnp.array(true_params['V'])\n",
    "\n",
    "results = estimate(Y, W, X=X, Z=Z, V=V)\n",
    "\n",
    "print(f\"\\nTrue effect: {true_params['treatment_effect']}, Estimated effect: {results.tau:.4f}\")\n",
    "print(f\"Chosen lambda_L: {results.lambda_L:.4f}, lambda_H: {results.lambda_H:.4f}\")"
   ],
   "id": "6ebcbab8622b2f78",
   "outputs": [
    {
     "name": "stdout",
     "output_type": "stream",
     "text": [
      "Warning: No valid loss found in cross_validate\n",
      "\n",
      "True effect: 1.0, Estimated effect: 1.1468\n",
      "Chosen lambda_L: 0.0010, lambda_H: 0.0010\n"
     ]
    }
   ],
   "execution_count": 10
  },
  {
   "metadata": {},
   "cell_type": "markdown",
   "source": [
    "The `assignment_mechanism` is set to `'single_treated_unit'`, which means that only one randomly selected unit is treated in the second half of the time periods.\n",
    "\n",
    "In this example, we include unit-specific covariates `X`, time-specific covariates `Z`, and unit-time specific covariates `V` in the estimation. The `estimate` function automatically handles the presence of covariates and estimates their coefficients along with the treatment effect.\n",
    "\n",
    "With this specific dataset, the estimated treatment effect is not close to the true treatment effect, as the single treated unit leads to the cross-validation method struggling to find a valid loss during the parameter selection process. The warning message \"No valid loss found in cross_validate\" indicates that the cross-validation procedure could not find a suitable set of regularization parameters that yielded a finite loss value.\n",
    "\n",
    "This issue arises because with only a single treated unit, there might not be enough information to reliably estimate the treatment effect, especially when using cross-validation. The limited treatment variation can make it challenging for the model to distinguish the treatment effect from the noise in the data.\n",
    "\n",
    "In such cases, it may be more appropriate to use a different validation method, such as holdout validation, or to rely on domain knowledge to set the regularization parameters manually. Additionally, increasing the number of observations or treated units can help improve the estimation accuracy and stability.\n",
    "\n",
    "It's important to note that the performance of the estimation method can be sensitive to the specific dataset and the chosen assignment mechanism. While the `estimate` function aims to handle various scenarios, there may be limitations in extreme cases like having only a single treated unit. It's always a good practice to carefully evaluate the results, consider the characteristics of the dataset, and interpret the findings in the context of the specific application."
   ],
   "id": "1c6b3bb9e0f55db4"
  },
  {
   "metadata": {},
   "cell_type": "markdown",
   "source": "",
   "id": "e7efc83eb0bfaf75"
  },
  {
   "metadata": {},
   "cell_type": "markdown",
   "source": [
    "# Covariates\n",
    "The `generate_data` function allows you to include three types of covariates in the generated dataset:\n",
    "\n",
    "1. **Unit-specific covariates (X):** These are characteristics or features that vary across units but remain constant over time. For example, in a study of students' academic performance, unit-specific covariates could include variables like gender, age, or socioeconomic status. These covariates capture the inherent differences between units that may influence the outcome variable.\n",
    "2. **Time-specific covariates (Z):** These are factors that change over time but are the same for all units at each time point. For instance, in an analysis of sales data, time-specific covariates could include variables like market trends, seasonal effects, or economic indicators. These covariates reflect the temporal variations that affect all units simultaneously.\n",
    "3. **Unit-time specific covariates (V):** These are covariates that vary both across units and over time. They capture the unique characteristics of each unit at each time point. For example, in a healthcare study, unit-time specific covariates could include individual patients' medical measurements or treatment adherence recorded at different time points. These covariates allow for capturing the dynamic and personalized aspects of each unit's experience.\n",
    "\n",
    "These three options are available for estimation, mirroring the description of the estimator in [Athey et al. (2021)](https://www.tandfonline.com/doi/full/10.1080/01621459.2021.1891924).\n",
    "\n",
    "In the `generate_data` function, you can control the inclusion of these covariates using the boolean flags X_cov, Z_cov, and V_cov. Setting these flags to True incorporates the respective type of covariates into the generated dataset, while setting them to False excludes them."
   ],
   "id": "7d5694fda39da545"
  },
  {
   "metadata": {},
   "cell_type": "code",
   "outputs": [],
   "execution_count": null,
   "source": "",
   "id": "b4502c7708f770f9"
  }
 ],
 "metadata": {
  "kernelspec": {
   "display_name": "Python 3",
   "language": "python",
   "name": "python3"
  },
  "language_info": {
   "codemirror_mode": {
    "name": "ipython",
    "version": 2
   },
   "file_extension": ".py",
   "mimetype": "text/x-python",
   "name": "python",
   "nbconvert_exporter": "python",
   "pygments_lexer": "ipython2",
   "version": "2.7.6"
  }
 },
 "nbformat": 4,
 "nbformat_minor": 5
}
