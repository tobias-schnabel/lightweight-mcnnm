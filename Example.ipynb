{
 "cells": [
  {
   "cell_type": "code",
   "id": "initial_id",
   "metadata": {
    "collapsed": true,
    "ExecuteTime": {
     "end_time": "2024-07-20T21:57:27.256562Z",
     "start_time": "2024-07-20T21:57:26.671681Z"
    }
   },
   "source": [
    "import jax\n",
    "import jax.numpy as jnp\n",
    "from mcnnm import estimate, generate_data, complete_matrix"
   ],
   "outputs": [],
   "execution_count": 1
  },
  {
   "metadata": {
    "ExecuteTime": {
     "end_time": "2024-07-20T21:57:53.431305Z",
     "start_time": "2024-07-20T21:57:53.428291Z"
    }
   },
   "cell_type": "code",
   "source": "jax.config.update('jax_platforms', 'cpu')  # Avoid Problems with Metal on Apple Silicon Machines",
   "id": "ce14391b291fd6ce",
   "outputs": [],
   "execution_count": 4
  },
  {
   "metadata": {},
   "cell_type": "markdown",
   "source": "# Example 1: Generate Data and Estimate the Treatment Effect using Holdout Validation (Faster than Cross-Validation but potentially less accurate)",
   "id": "6e3bb5397c3bf295"
  },
  {
   "metadata": {
    "ExecuteTime": {
     "end_time": "2024-07-20T21:57:57.355698Z",
     "start_time": "2024-07-20T21:57:54.443116Z"
    }
   },
   "cell_type": "code",
   "source": [
    "data, true_params = generate_data(nobs=500, nperiods=30, seed=42, assignment_mechanism='last_periods',\n",
    "                                  X_cov=False, Z_cov=False, V_cov=False, treatment_probability=0.4)\n",
    "\n",
    "Y = jnp.array(data.pivot(index='unit', columns='period', values='y').values)\n",
    "W = jnp.array(data.pivot(index='unit', columns='period', values='treat').values)\n",
    "\n",
    "results = estimate(Y, W, validation_method='holdout')\n",
    "\n",
    "print(f\"\\nTrue effect: {true_params['treatment_effect']}, Estimated effect: {results.tau:.4f}\")\n",
    "print(f\"Chosen lambda_L: {results.lambda_L:.4f}\")"
   ],
   "id": "f9d5f734290a1949",
   "outputs": [
    {
     "name": "stdout",
     "output_type": "stream",
     "text": [
      "\n",
      "True effect: 1.0, Estimated effect: 1.0044\n",
      "Chosen lambda_L: 0.0010\n"
     ]
    }
   ],
   "execution_count": 5
  },
  {
   "metadata": {},
   "cell_type": "code",
   "source": "",
   "id": "9e8f385b8b8aa18d",
   "outputs": [],
   "execution_count": null
  }
 ],
 "metadata": {
  "kernelspec": {
   "display_name": "Python 3",
   "language": "python",
   "name": "python3"
  },
  "language_info": {
   "codemirror_mode": {
    "name": "ipython",
    "version": 2
   },
   "file_extension": ".py",
   "mimetype": "text/x-python",
   "name": "python",
   "nbconvert_exporter": "python",
   "pygments_lexer": "ipython2",
   "version": "2.7.6"
  }
 },
 "nbformat": 4,
 "nbformat_minor": 5
}
