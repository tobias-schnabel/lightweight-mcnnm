{
 "cells": [
  {
   "cell_type": "code",
   "id": "initial_id",
   "metadata": {
    "collapsed": true,
    "ExecuteTime": {
     "end_time": "2024-09-01T16:04:05.667696Z",
     "start_time": "2024-09-01T16:04:05.020761Z"
    }
   },
   "source": [
    "import time\n",
    "import numpy as np\n",
    "import pandas as pd\n",
    "import jax.numpy as jnp\n",
    "from src.mcnnm.utils import generate_data\n",
    "from src.mcnnm.wrappers import estimate"
   ],
   "outputs": [],
   "execution_count": 1
  },
  {
   "metadata": {
    "ExecuteTime": {
     "end_time": "2024-09-01T16:04:06.151678Z",
     "start_time": "2024-09-01T16:04:05.671030Z"
    }
   },
   "cell_type": "code",
   "source": "import causaltensor.cauest.MCNNM as MC",
   "id": "f15e4d3641d7b637",
   "outputs": [],
   "execution_count": 2
  },
  {
   "metadata": {},
   "cell_type": "markdown",
   "source": [
    "# Comparison of Causaltensor, Fect, and Lightweight-MCNNM\n",
    "This notebook compares the performance of Causaltensor, Fect, and Lightweight-MCNNM in estimating the average treatment effect in a panel data setting. The comparison is based on the following metrics: treatment effect estimate, execution time, and MAE and MSE of the untreated counterfactual outcome matrix. The comparison is based on a simulated dataset with 50 units and 50 periods without any covariates. The dataset is generated using the `generate_data` function from the `util` module. The true treatment effect is set to 5. The untreated counterfactual outcome matrix is also generated using the true parameters. The three estimators are then run on the generated data, and the results are compared. The reason why these estimators are compared without covariates is that they handle covariates differently: lightweight-mcnnm exactly follows the description in section 8.1 of [the paper](https://www.tandfonline.com/doi/full/10.1080/01621459.2021.1891924) and regularizes covariates separately, while causaltensor and fect do not handle covariates in the same way (fect seems to regularize covariates as well, but neither causaltensor nor fect allow for unit-time specific covariates). Colab can not be used to run this notebook because it requires a local R installation. All results were obtained on a 2021 10-core Apple M1 Pro CPU."
   ],
   "id": "5560c6e7b272fa7e"
  },
  {
   "metadata": {},
   "cell_type": "markdown",
   "source": "## Generate Data",
   "id": "c2ab41801b03aa02"
  },
  {
   "metadata": {
    "ExecuteTime": {
     "end_time": "2024-09-01T16:04:06.330671Z",
     "start_time": "2024-09-01T16:04:06.289504Z"
    }
   },
   "cell_type": "code",
   "source": [
    "nobs, nperiods = 50, 50\n",
    "\n",
    "Y, W, X, Z, V, true_params = generate_data(\n",
    "        nobs=50,\n",
    "        nperiods=20,\n",
    "        unit_fe=True,\n",
    "        time_fe=True,\n",
    "        X_cov=False,\n",
    "        Z_cov=False,\n",
    "        V_cov=False,\n",
    "        seed=2024,\n",
    "        assignment_mechanism=\"staggered\",\n",
    "        treatment_probability=0.1,\n",
    "    )\n",
    "\n",
    "tau = true_params[\"treatment_effect\"]\n",
    "Y_0 = jnp.array(true_params[\"Y(0)\"])"
   ],
   "id": "b10c31450d9529be",
   "outputs": [],
   "execution_count": 3
  },
  {
   "metadata": {
    "ExecuteTime": {
     "end_time": "2024-09-01T16:04:06.349933Z",
     "start_time": "2024-09-01T16:04:06.347862Z"
    }
   },
   "cell_type": "code",
   "source": [
    "# Define a function to compute the MSE of two matrices\n",
    "def mse(A, B):\n",
    "    return jnp.mean((A - B)**2)"
   ],
   "id": "9abafff9499751e",
   "outputs": [],
   "execution_count": 4
  },
  {
   "metadata": {},
   "cell_type": "markdown",
   "source": "## Run all three estimators",
   "id": "ce21e4b267aa0d5f"
  },
  {
   "metadata": {},
   "cell_type": "markdown",
   "source": "### Causaltensor",
   "id": "48928f9cf411775c"
  },
  {
   "metadata": {
    "ExecuteTime": {
     "end_time": "2024-09-01T16:04:18.309787Z",
     "start_time": "2024-09-01T16:04:06.403346Z"
    }
   },
   "cell_type": "code",
   "source": [
    "# Code adapted from Causaltensor's Matrix Completion Example: https://colab.research.google.com/github/TianyiPeng/causaltensor/blob/main/tests/MCNNM_test.ipynb#scrollTo=LSYGyn4cl9Bd (last cell)\n",
    "# Causaltensor nomenclature: observation matrix O and treatment pattern Z\n",
    "# so O is Y and Z is W \n",
    "# Causaltensor by default uses 6 candidate lambdas\n",
    "# input arrays have to be numpy\n",
    "Y_np = np.array(Y)\n",
    "W_np = np.array(W) \n",
    "\n",
    "causaltensor_start_time = time.time()\n",
    "solver = MC.MCNNMPanelSolver(Z=W_np, O=Y_np)\n",
    "ct_res = solver.solve_with_cross_validation(K=5)\n",
    "causaltensor_exec_time = time.time() - causaltensor_start_time"
   ],
   "id": "da80bdcaf67cfac1",
   "outputs": [
    {
     "name": "stderr",
     "output_type": "stream",
     "text": [
      "/Users/ts/Library/Caches/pypoetry/virtualenvs/lightweight-mcnnm-rtHbWh8M-py3.12/lib/python3.12/site-packages/causaltensor/cauest/MCNNM.py:251: RuntimeWarning: invalid value encountered in scalar divide\n",
      "  res.tau = np.sum((self.O - res.baseline_model)*self.Z) / np.sum(self.Z)\n"
     ]
    }
   ],
   "execution_count": 5
  },
  {
   "metadata": {},
   "cell_type": "markdown",
   "source": "### Lightweight-MCNNM",
   "id": "6ef3b2bb30263f0a"
  },
  {
   "metadata": {
    "ExecuteTime": {
     "end_time": "2024-09-01T16:04:38.770411Z",
     "start_time": "2024-09-01T16:04:38.104627Z"
    }
   },
   "cell_type": "code",
   "source": [
    "mcnnm_start_time = time.time()\n",
    "results = estimate(Y=Y, Mask=W, K=5, n_lambda=6)\n",
    "mcnnm_exec_time = time.time() - mcnnm_start_time"
   ],
   "id": "1c170e750e476425",
   "outputs": [],
   "execution_count": 11
  },
  {
   "metadata": {},
   "cell_type": "markdown",
   "source": "### Fect",
   "id": "c61a2a7d28601bc8"
  },
  {
   "metadata": {
    "ExecuteTime": {
     "end_time": "2024-09-01T16:04:20.390116Z",
     "start_time": "2024-09-01T16:04:20.377715Z"
    }
   },
   "cell_type": "code",
   "source": [
    "# Convert Y and W to long format\n",
    "y_df = pd.DataFrame(Y).reset_index()\n",
    "y_long = pd.melt(y_df, \n",
    "                 id_vars=['index'],\n",
    "                 var_name='period',\n",
    "                 value_name='Y')\n",
    "y_long = y_long.rename(columns={'index': 'unit'})\n",
    "\n",
    "w_df = pd.DataFrame(W).reset_index()\n",
    "w_long = pd.melt(w_df, \n",
    "                 id_vars=['index'],\n",
    "                 var_name='period',\n",
    "                 value_name='D')\n",
    "w_long = w_long.rename(columns={'index': 'unit'})\n",
    "\n",
    "# Combine Y and W data\n",
    "data = pd.merge(y_long, w_long[['unit', 'period', 'D']], on=['unit', 'period'])\n",
    "\n",
    "# Rename columns\n",
    "data = data.rename(columns={\"unit\": \"id\", \"period\": \"time\"})\n",
    "\n",
    "# Sort the data\n",
    "data = data.sort_values(['id', 'time']).reset_index(drop=True)\n",
    "data.to_csv(\"fect_data.csv\", index=False)  # Save the long format DataFrame to a CSV file"
   ],
   "id": "90960b141bbcb58a",
   "outputs": [],
   "execution_count": 7
  },
  {
   "metadata": {},
   "cell_type": "markdown",
   "source": "After manually running the code contained in fect_test.R in Rstudio, fect version 0.1.0, we can load the results::",
   "id": "cf1d8b937219609f"
  },
  {
   "metadata": {
    "ExecuteTime": {
     "end_time": "2024-09-01T16:04:20.443083Z",
     "start_time": "2024-09-01T16:04:20.439082Z"
    }
   },
   "cell_type": "code",
   "source": [
    "fect_results = pd.read_csv(\"fect_results.csv\")  # Read the results\n",
    "\n",
    "# Access the values\n",
    "fect_tau = fect_results['att_avg'].values[0]\n",
    "fect_lam = fect_results['lambda_cv'].values[0]\n",
    "fect_Y_0 = fect_results.filter(regex='^Y_ct_').values.T\n",
    "fect_exec_time = fect_results['elapsed_time'].values[0]"
   ],
   "id": "6414073757f81e06",
   "outputs": [],
   "execution_count": 8
  },
  {
   "metadata": {},
   "cell_type": "markdown",
   "source": "## Results Comparison:",
   "id": "f16efe0f83393a52"
  },
  {
   "metadata": {
    "ExecuteTime": {
     "end_time": "2024-09-01T16:04:43.054097Z",
     "start_time": "2024-09-01T16:04:43.049062Z"
    }
   },
   "cell_type": "code",
   "source": [
    "print(\"Causaltensor:\")\n",
    "print(f\"true effect: {tau}, estimated effect: {ct_res.tau:.4f}\")\n",
    "print(f\"Execution time: {causaltensor_exec_time:.2f} s, Cross-validated lambda: Not made available by Causaltensor\")\n",
    "print(\"-\"*100)\n",
    "print(\"Fect:\")\n",
    "print(f\"true effect: {tau}, estimated effect: {fect_tau:.4f}\")\n",
    "print(f\"Execution time: {fect_exec_time:.2f} s, Cross-validated lambda: {fect_lam:.6f}\")\n",
    "print(f\"MSE of Y(0) (The untreated counterfactual outcome matrix completed by these estimators ): {mse(Y_0, fect_Y_0):.4f}\")\n",
    "print(f\"MAE of Y(0) (The untreated counterfactual outcome matrix completed by these estimators ): {jnp.mean(jnp.abs(Y_0 - fect_Y_0)):.4f}\")\n",
    "print(\"-\"*100)\n",
    "print(\"Lightweight-MCNNM:\")\n",
    "print(f\"true effect: {tau}, estimated effect: {results.tau:.4f}\")\n",
    "print(f\"Execution time: {mcnnm_exec_time:.2f} s, Cross-validated lambda: {results.lambda_L:.6f}\")\n",
    "print(f\"MSE of Y(0) (The untreated counterfactual outcome matrix completed by these estimators ): {mse(Y_0, results.Y_completed):.4f}\")\n",
    "print(f\"MAE of Y(0) (The untreated counterfactual outcome matrix completed by these estimators ): {jnp.mean(jnp.abs(Y_0 - results.Y_completed)):.4f}\")"
   ],
   "id": "4ca3a729b5f6c7d4",
   "outputs": [
    {
     "name": "stdout",
     "output_type": "stream",
     "text": [
      "Causaltensor:\n",
      "true effect: 5.0, estimated effect: 5.0559\n",
      "Execution time: 11.90 s, Cross-validated lambda: Not made available by Causaltensor\n",
      "----------------------------------------------------------------------------------------------------\n",
      "Fect:\n",
      "true effect: 5.0, estimated effect: 4.9551\n",
      "Execution time: 0.61 s, Cross-validated lambda: 0.006636\n",
      "MSE of Y(0) (The untreated counterfactual outcome matrix completed by these estimators ): 2.4865\n",
      "MAE of Y(0) (The untreated counterfactual outcome matrix completed by these estimators ): 1.1319\n",
      "----------------------------------------------------------------------------------------------------\n",
      "Lightweight-MCNNM:\n",
      "true effect: 5.0, estimated effect: 4.9338\n",
      "Execution time: 0.66 s, Cross-validated lambda: 0.000000\n",
      "MSE of Y(0) (The untreated counterfactual outcome matrix completed by these estimators ): 2.4205\n",
      "MAE of Y(0) (The untreated counterfactual outcome matrix completed by these estimators ): 0.7748\n"
     ]
    }
   ],
   "execution_count": 12
  },
  {
   "metadata": {},
   "cell_type": "markdown",
   "source": "We can see that all three estimators provide similar estimates of the treatment effect, with lightweight-mcnnm being the least accurate. Causaltensor takes the longest to run, while fect is the fastest. The MSE of the untreated counterfactual outcome matrix is lowest for fect, followed by causaltensor and lightweight-mcnnm. The MAE and MSE of the imputed outcome matrix are also lowest for lightweight-mcnnm, followed by fect and causaltensor. The loss in treatment effect accuracy is likely explained by discrepancies in coefficient initialization and optimization convergence. ",
   "id": "157840aa81c04f1b"
  }
 ],
 "metadata": {
  "kernelspec": {
   "display_name": "Python 3",
   "language": "python",
   "name": "python3"
  },
  "language_info": {
   "codemirror_mode": {
    "name": "ipython",
    "version": 2
   },
   "file_extension": ".py",
   "mimetype": "text/x-python",
   "name": "python",
   "nbconvert_exporter": "python",
   "pygments_lexer": "ipython2",
   "version": "2.7.6"
  }
 },
 "nbformat": 4,
 "nbformat_minor": 5
}
