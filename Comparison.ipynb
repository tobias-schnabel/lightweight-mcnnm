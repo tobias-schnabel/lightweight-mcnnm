{
 "cells": [
  {
   "cell_type": "code",
   "id": "initial_id",
   "metadata": {
    "collapsed": true,
    "ExecuteTime": {
     "end_time": "2024-08-05T17:24:01.436224Z",
     "start_time": "2024-08-05T17:24:01.434286Z"
    }
   },
   "source": [
    "import time\n",
    "import numpy as np\n",
    "import pandas as pd\n",
    "import jax.numpy as jnp\n",
    "from src.mcnnm.util import generate_data\n",
    "from src.mcnnm.estimate import estimate"
   ],
   "outputs": [],
   "execution_count": 44
  },
  {
   "metadata": {
    "ExecuteTime": {
     "end_time": "2024-08-05T17:24:01.453597Z",
     "start_time": "2024-08-05T17:24:01.451764Z"
    }
   },
   "cell_type": "code",
   "source": "import causaltensor.cauest.MCNNM as MC",
   "id": "f15e4d3641d7b637",
   "outputs": [],
   "execution_count": 45
  },
  {
   "metadata": {},
   "cell_type": "markdown",
   "source": [
    "# Comparison of Causaltensor, Fect, and Lightweight-MCNNM\n",
    "This notebook compares the performance of Causaltensor, Fect, and Lightweight-MCNNM in estimating the average treatment effect in a panel data setting. The comparison is based on the following metrics: treatment effect estimate, execution time, and MSE of the untreated counterfactual outcome matrix. The comparison is based on a simulated dataset with 100 units and 100 periods without any covariates. The dataset is generated using the `generate_data` function from the `util` module. The true treatment effect is set to 1. The untreated counterfactual outcome matrix is also generated using the true parameters. The three estimators are then run on the generated data, and the results are compared. The reason why these estimators are compared without covariates is that they handle covariates differently: lightweight-mcnnm exactly follows the description in section 8.1 of [the paper](https://www.tandfonline.com/doi/full/10.1080/01621459.2021.1891924) and regularizes covariates separately, while causaltensor and fect do not handle covariates in the same way. Colab can not be used to run this notebook because it requires a local R installation. All results were obtained on a 10-core Apple M1 Pro CPU."
   ],
   "id": "5560c6e7b272fa7e"
  },
  {
   "metadata": {},
   "cell_type": "markdown",
   "source": "## Generate Data",
   "id": "c2ab41801b03aa02"
  },
  {
   "metadata": {
    "ExecuteTime": {
     "end_time": "2024-08-05T17:24:01.525713Z",
     "start_time": "2024-08-05T17:24:01.461771Z"
    }
   },
   "cell_type": "code",
   "source": [
    "nobs, nperiods = 100, 100\n",
    "data, true_params = generate_data(nobs=nobs, nperiods=nperiods, seed=42, X_cov=False, Z_cov=False, V_cov=False,\n",
    "                                  assignment_mechanism=\"block\")\n",
    "\n",
    "Y = jnp.array(data.pivot(index=\"unit\", columns=\"period\", values=\"y\").values)\n",
    "W = jnp.array(data.pivot(index=\"unit\", columns=\"period\", values=\"treat\").values)\n",
    "\n",
    "tau = true_params[\"treatment_effect\"]\n",
    "Y_0 = jnp.array(true_params[\"Y(0)\"]).reshape(nobs, nperiods)"
   ],
   "id": "b10c31450d9529be",
   "outputs": [],
   "execution_count": 46
  },
  {
   "metadata": {
    "ExecuteTime": {
     "end_time": "2024-08-05T17:24:01.528775Z",
     "start_time": "2024-08-05T17:24:01.526598Z"
    }
   },
   "cell_type": "code",
   "source": [
    "# Define a function to compute the MSE of two matrices\n",
    "def mse(A, B):\n",
    "    return jnp.mean((A - B)**2)"
   ],
   "id": "9abafff9499751e",
   "outputs": [],
   "execution_count": 47
  },
  {
   "metadata": {},
   "cell_type": "markdown",
   "source": "## Run all three estimators",
   "id": "ce21e4b267aa0d5f"
  },
  {
   "metadata": {},
   "cell_type": "markdown",
   "source": "### Causaltensor",
   "id": "48928f9cf411775c"
  },
  {
   "metadata": {
    "ExecuteTime": {
     "end_time": "2024-08-05T17:24:38.350363Z",
     "start_time": "2024-08-05T17:24:01.529412Z"
    }
   },
   "cell_type": "code",
   "source": [
    "# Code adapted from Causaltensor's Matrix Completion Example: https://colab.research.google.com/github/TianyiPeng/causaltensor/blob/main/tests/MCNNM_test.ipynb#scrollTo=LSYGyn4cl9Bd (last cell)\n",
    "# Causaltensor nomenclature: observation matrix O and treatment pattern Z\n",
    "# so O is Y and Z is W \n",
    "# Causaltensor by default uses 6 candidate lambdas\n",
    "# input arrays have to be numpy\n",
    "Y_np = np.array(data.pivot(index=\"unit\", columns=\"period\", values=\"y\").values)\n",
    "W_np = np.array(data.pivot(index=\"unit\", columns=\"period\", values=\"treat\").values) \n",
    "\n",
    "causaltensor_start_time = time.time()\n",
    "solver = MC.MCNNMPanelSolver(Z=W_np, O=Y_np)\n",
    "ct_res = solver.solve_with_cross_validation(K=5)\n",
    "causaltensor_exec_time = time.time() - causaltensor_start_time"
   ],
   "id": "da80bdcaf67cfac1",
   "outputs": [
    {
     "name": "stderr",
     "output_type": "stream",
     "text": [
      "/Users/ts/Library/Caches/pypoetry/virtualenvs/project-name-rtHbWh8M-py3.12/lib/python3.12/site-packages/causaltensor/cauest/MCNNM.py:251: RuntimeWarning: invalid value encountered in scalar divide\n",
      "  res.tau = np.sum((self.O - res.baseline_model)*self.Z) / np.sum(self.Z)\n"
     ]
    }
   ],
   "execution_count": 48
  },
  {
   "metadata": {},
   "cell_type": "markdown",
   "source": "### Lightweight-MCNNM",
   "id": "6ef3b2bb30263f0a"
  },
  {
   "metadata": {
    "ExecuteTime": {
     "end_time": "2024-08-05T17:24:39.269854Z",
     "start_time": "2024-08-05T17:24:38.353200Z"
    }
   },
   "cell_type": "code",
   "source": [
    "mcnnm_start_time = time.time()\n",
    "results = estimate(Y, W, K=5, n_lambda_L=6)  # Causaltensor by default uses 6 candidate lambdas\n",
    "mcnnm_exec_time = time.time() - mcnnm_start_time"
   ],
   "id": "1c170e750e476425",
   "outputs": [],
   "execution_count": 49
  },
  {
   "metadata": {},
   "cell_type": "markdown",
   "source": "### Fect",
   "id": "c61a2a7d28601bc8"
  },
  {
   "metadata": {
    "ExecuteTime": {
     "end_time": "2024-08-05T17:24:39.284769Z",
     "start_time": "2024-08-05T17:24:39.270431Z"
    }
   },
   "cell_type": "code",
   "source": [
    "long_data = data.copy() # Create a long format DataFrame for fect\n",
    "long_data = long_data.rename(columns={\"unit\": \"id\", \"period\": \"time\", \"y\": \"Y\"})  # Rename columns\n",
    "long_data[\"D\"] = W.flatten()  # Flatten the W matrix and add it as a new column\n",
    "long_data = long_data.drop(columns=[\"treat\"]) # drop column \"treat\"\n",
    "long_data.to_csv(\"fect_data.csv\", index=False)  # Save the long format DataFrame to a CSV file"
   ],
   "id": "90960b141bbcb58a",
   "outputs": [],
   "execution_count": 50
  },
  {
   "metadata": {},
   "cell_type": "markdown",
   "source": "After manually running the code contained in fect_test.R in Rstudio, fect version 0.1.0, we can load the results::",
   "id": "cf1d8b937219609f"
  },
  {
   "metadata": {
    "ExecuteTime": {
     "end_time": "2024-08-05T17:24:39.290284Z",
     "start_time": "2024-08-05T17:24:39.285364Z"
    }
   },
   "cell_type": "code",
   "source": [
    "fect_results = pd.read_csv(\"fect_results.csv\")  # Read the results\n",
    "\n",
    "# Access the values\n",
    "fect_tau = fect_results['att_avg'].values[0]\n",
    "fect_lam = fect_results['lambda_cv'].values[0]\n",
    "fect_Y_0 = fect_results.filter(regex='^Y_ct_').values\n",
    "fect_exec_time = fect_results['elapsed_time'].values[0]"
   ],
   "id": "6414073757f81e06",
   "outputs": [],
   "execution_count": 51
  },
  {
   "metadata": {},
   "cell_type": "markdown",
   "source": "## Results Comparison:",
   "id": "f16efe0f83393a52"
  },
  {
   "metadata": {
    "ExecuteTime": {
     "end_time": "2024-08-05T17:24:39.294005Z",
     "start_time": "2024-08-05T17:24:39.290909Z"
    }
   },
   "cell_type": "code",
   "source": [
    "print(\"Causaltensor:\")\n",
    "print(f\"true effect: {tau}, estimated effect: {ct_res.tau:.4f}\")\n",
    "print(f\"Execution time: {causaltensor_exec_time:.2f} s, Cross-validated lambda: Not made available by Causaltensor\")\n",
    "print(\"-\"*100)\n",
    "print(\"Fect:\")\n",
    "print(f\"true effect: {tau}, estimated effect: {fect_tau:.4f}\")\n",
    "print(f\"Execution time: {fect_exec_time:.2f} s, Cross-validated lambda: {fect_lam:.6f}\")\n",
    "print(f\"MSE of Y(0) (The untreated counterfactual outcome matrix completed by these estimators ): {mse(Y_0, fect_Y_0):.4f}\")\n",
    "print(\"-\"*100)\n",
    "print(\"Lightweight-MCNNM:\")\n",
    "print(f\"true effect: {tau}, estimated effect: {results.tau:.4f}\")\n",
    "print(f\"Execution time: {mcnnm_exec_time:.2f} s, Cross-validated lambda: {results.lambda_L:.6f}\")\n",
    "print(f\"MSE of Y(0) (The untreated counterfactual outcome matrix completed by these estimators ): {mse(Y_0, results.Y_completed):.4f}\")"
   ],
   "id": "4ca3a729b5f6c7d4",
   "outputs": [
    {
     "name": "stdout",
     "output_type": "stream",
     "text": [
      "Causaltensor:\n",
      "true effect: 1.0, estimated effect: 0.9394\n",
      "Execution time: 36.82 s, Cross-validated lambda: Not made available by Causaltensor\n",
      "----------------------------------------------------------------------------------------------------\n",
      "Fect:\n",
      "true effect: 1.0, estimated effect: 0.9639\n",
      "Execution time: 13.46 s, Cross-validated lambda: 0.000061\n",
      "MSE of Y(0) (The untreated counterfactual outcome matrix completed by these estimators ): 9.2464\n",
      "----------------------------------------------------------------------------------------------------\n",
      "Lightweight-MCNNM:\n",
      "true effect: 1.0, estimated effect: 0.9777\n",
      "Execution time: 0.91 s, Cross-validated lambda: 0.001000\n",
      "MSE of Y(0) (The untreated counterfactual outcome matrix completed by these estimators ): 4.6382\n"
     ]
    }
   ],
   "execution_count": 52
  }
 ],
 "metadata": {
  "kernelspec": {
   "display_name": "Python 3",
   "language": "python",
   "name": "python3"
  },
  "language_info": {
   "codemirror_mode": {
    "name": "ipython",
    "version": 2
   },
   "file_extension": ".py",
   "mimetype": "text/x-python",
   "name": "python",
   "nbconvert_exporter": "python",
   "pygments_lexer": "ipython2",
   "version": "2.7.6"
  }
 },
 "nbformat": 4,
 "nbformat_minor": 5
}
